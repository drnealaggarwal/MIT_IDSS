{
 "cells": [
  {
   "cell_type": "code",
   "execution_count": 1,
   "id": "242129d7",
   "metadata": {},
   "outputs": [
    {
     "name": "stdout",
     "output_type": "stream",
     "text": [
      "/Users/nealaggarwal/MIT/wk3\r\n"
     ]
    }
   ],
   "source": [
    "!pwd"
   ]
  },
  {
   "cell_type": "code",
   "execution_count": 8,
   "id": "6c6db84a",
   "metadata": {},
   "outputs": [
    {
     "name": "stdout",
     "output_type": "stream",
     "text": [
      "\n",
      "     active environment : MITenv\n",
      "    active env location : /Users/nealaggarwal/.conda/envs/MITenv\n",
      "            shell level : 1\n",
      "       user config file : /Users/nealaggarwal/.condarc\n",
      " populated config files : /Users/nealaggarwal/.condarc\n",
      "          conda version : 23.1.0\n",
      "    conda-build version : 3.23.3\n",
      "         python version : 3.7.1.final.0\n",
      "       virtual packages : __archspec=1=x86_64\n",
      "                          __osx=10.16=0\n",
      "                          __unix=0=0\n",
      "       base environment : /Users/nealaggarwal/anaconda3  (writable)\n",
      "      conda av data dir : /Users/nealaggarwal/anaconda3/etc/conda\n",
      "  conda av metadata url : None\n",
      "           channel URLs : https://repo.anaconda.com/pkgs/main/osx-64\n",
      "                          https://repo.anaconda.com/pkgs/main/noarch\n",
      "                          https://repo.anaconda.com/pkgs/r/osx-64\n",
      "                          https://repo.anaconda.com/pkgs/r/noarch\n",
      "          package cache : /Users/nealaggarwal/anaconda3/pkgs\n",
      "                          /Users/nealaggarwal/.conda/pkgs\n",
      "       envs directories : /Users/nealaggarwal/anaconda3/envs\n",
      "                          /Users/nealaggarwal/.conda/envs\n",
      "               platform : osx-64\n",
      "             user-agent : conda/23.1.0 requests/2.23.0 CPython/3.7.1 Darwin/21.1.0 OSX/10.16\n",
      "                UID:GID : 501:20\n",
      "             netrc file : None\n",
      "           offline mode : False\n",
      "\n",
      "\n",
      "Note: you may need to restart the kernel to use updated packages.\n"
     ]
    }
   ],
   "source": [
    "%conda info"
   ]
  },
  {
   "cell_type": "code",
   "execution_count": null,
   "id": "e39d8204",
   "metadata": {},
   "outputs": [],
   "source": []
  }
 ],
 "metadata": {
  "kernelspec": {
   "display_name": "MITenv",
   "language": "python",
   "name": "mitenv"
  },
  "language_info": {
   "codemirror_mode": {
    "name": "ipython",
    "version": 3
   },
   "file_extension": ".py",
   "mimetype": "text/x-python",
   "name": "python",
   "nbconvert_exporter": "python",
   "pygments_lexer": "ipython3",
   "version": "3.10.8"
  }
 },
 "nbformat": 4,
 "nbformat_minor": 5
}
