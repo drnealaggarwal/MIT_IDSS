{
 "cells": [
  {
   "cell_type": "code",
   "execution_count": 11,
   "id": "e60bee49",
   "metadata": {},
   "outputs": [
    {
     "name": "stdout",
     "output_type": "stream",
     "text": [
      "  1 53410000.00000001\n",
      "  2 58216900.000000015\n",
      "  3 63456421.00000002\n",
      "  4 69167498.89000003\n",
      "  5 75392573.79010004\n",
      "  6 82177905.43120904\n",
      "  7 89573916.92001787\n",
      "  8 97635569.44281949\n"
     ]
    }
   ],
   "source": [
    "principal = 49000000\n",
    "rate = 0.09\n",
    "numyears = 8\n",
    "year = 1\n",
    "\n",
    "while year <= numyears:\n",
    "    principal *= (1 + rate)\n",
    "    format(principal, '0.2f')\n",
    "    print(f'{year:>3d} {principal}')\n",
    "    year += 1"
   ]
  },
  {
   "cell_type": "code",
   "execution_count": 52,
   "id": "9e6f4a64",
   "metadata": {},
   "outputs": [],
   "source": [
    "a = 0b11001001\n",
    "mask = 0b11110000\n",
    "x = (a & mask) >> 4"
   ]
  },
  {
   "cell_type": "code",
   "execution_count": 53,
   "id": "8ba4fc44",
   "metadata": {},
   "outputs": [
    {
     "name": "stdout",
     "output_type": "stream",
     "text": [
      "12\n"
     ]
    }
   ],
   "source": [
    "print(x)"
   ]
  },
  {
   "cell_type": "code",
   "execution_count": 61,
   "id": "54ec9ede",
   "metadata": {},
   "outputs": [],
   "source": [
    "a = 40\n",
    "b = 5\n",
    "if a > b:\n",
    "    maxval = a\n",
    "else:\n",
    "    maxval = b"
   ]
  },
  {
   "cell_type": "code",
   "execution_count": 63,
   "id": "5f0dd3b7",
   "metadata": {},
   "outputs": [
    {
     "name": "stdout",
     "output_type": "stream",
     "text": [
      "a: 40 b: 5 maxval 40\n"
     ]
    }
   ],
   "source": [
    "print('a:', a, 'b:', b, 'maxval', maxval)\n"
   ]
  },
  {
   "cell_type": "code",
   "execution_count": 62,
   "id": "b36d70ca",
   "metadata": {},
   "outputs": [],
   "source": [
    "maxval = a if a>b else b"
   ]
  },
  {
   "cell_type": "code",
   "execution_count": 64,
   "id": "40aedb9e",
   "metadata": {},
   "outputs": [
    {
     "name": "stdout",
     "output_type": "stream",
     "text": [
      "1\n",
      "2\n",
      "3\n",
      "4\n",
      "5\n",
      "6\n",
      "7\n",
      "8\n",
      "9\n"
     ]
    }
   ],
   "source": [
    "x = 0\n",
    "while (x := x + 1) < 10:\n",
    "    print(x)"
   ]
  },
  {
   "cell_type": "code",
   "execution_count": 67,
   "id": "eef4a664",
   "metadata": {},
   "outputs": [
    {
     "data": {
      "text/plain": [
       "False"
      ]
     },
     "execution_count": 67,
     "metadata": {},
     "output_type": "execute_result"
    }
   ],
   "source": [
    "walrus = False\n",
    "walrus"
   ]
  },
  {
   "cell_type": "code",
   "execution_count": 68,
   "id": "9b996719",
   "metadata": {},
   "outputs": [
    {
     "data": {
      "text/plain": [
       "True"
      ]
     },
     "execution_count": 68,
     "metadata": {},
     "output_type": "execute_result"
    }
   ],
   "source": [
    "(walrus := True)\n",
    "walrus"
   ]
  },
  {
   "cell_type": "code",
   "execution_count": null,
   "id": "e70d618f",
   "metadata": {},
   "outputs": [],
   "source": [
    "x, y = 3, 8\n",
    "if x == y:\n",
    "    print(f'x and y are equal ({x = }, {y = })')"
   ]
  },
  {
   "cell_type": "code",
   "execution_count": 75,
   "id": "38e50b70",
   "metadata": {},
   "outputs": [
    {
     "data": {
      "text/plain": [
       "True"
      ]
     },
     "execution_count": 75,
     "metadata": {},
     "output_type": "execute_result"
    }
   ],
   "source": [
    "(walrus := True)"
   ]
  },
  {
   "cell_type": "code",
   "execution_count": 76,
   "id": "df673269",
   "metadata": {},
   "outputs": [],
   "source": [
    "walrus = True"
   ]
  },
  {
   "cell_type": "code",
   "execution_count": null,
   "id": "afa3f18c",
   "metadata": {},
   "outputs": [],
   "source": [
    "x = 0\n",
    "while x < 10:\n",
    "    print(x)\n",
    "    if x == 5:\n",
    "        break\n",
    "    x += 1\n",
    "print('Done')"
   ]
  },
  {
   "cell_type": "code",
   "execution_count": 1,
   "id": "c66b4624",
   "metadata": {},
   "outputs": [
    {
     "name": "stdout",
     "output_type": "stream",
     "text": [
      "11\n"
     ]
    }
   ],
   "source": [
    "a = 'Hello World'\n",
    "print(len(a))"
   ]
  },
  {
   "cell_type": "code",
   "execution_count": 2,
   "id": "d0623955",
   "metadata": {},
   "outputs": [
    {
     "name": "stdout",
     "output_type": "stream",
     "text": [
      "o\n",
      "d\n"
     ]
    }
   ],
   "source": [
    "b = a[4]\n",
    "c = a[-1]\n",
    "print(b)\n",
    "print(c)"
   ]
  },
  {
   "cell_type": "code",
   "execution_count": 3,
   "id": "9af0ce98",
   "metadata": {},
   "outputs": [
    {
     "data": {
      "text/plain": [
       "'Hello Worldly'"
      ]
     },
     "execution_count": 3,
     "metadata": {},
     "output_type": "execute_result"
    }
   ],
   "source": [
    "g = a + 'ly'\n",
    "g"
   ]
  },
  {
   "cell_type": "code",
   "execution_count": 5,
   "id": "fff5a403",
   "metadata": {},
   "outputs": [
    {
     "name": "stdout",
     "output_type": "stream",
     "text": [
      "hello\n",
      "world\n"
     ]
    }
   ],
   "source": [
    "s = 'hello\\nworld'\n",
    "print(str(s))"
   ]
  },
  {
   "cell_type": "code",
   "execution_count": 6,
   "id": "caffbafc",
   "metadata": {},
   "outputs": [
    {
     "name": "stdout",
     "output_type": "stream",
     "text": [
      "'hello\\nworld'\n"
     ]
    }
   ],
   "source": [
    "print(repr(s))"
   ]
  },
  {
   "cell_type": "code",
   "execution_count": 9,
   "id": "5158502a",
   "metadata": {},
   "outputs": [
    {
     "name": "stdout",
     "output_type": "stream",
     "text": [
      "<__main__.student object at 0x7f9323dcb220>\n"
     ]
    },
    {
     "data": {
      "text/plain": [
       "'<__main__.student object at 0x7f9323dcb220>'"
      ]
     },
     "execution_count": 9,
     "metadata": {},
     "output_type": "execute_result"
    }
   ],
   "source": [
    "class student:\n",
    "    name = ''\n",
    "    \n",
    "std = student()\n",
    "print(std)\n",
    "repr(std)"
   ]
  },
  {
   "cell_type": "code",
   "execution_count": 12,
   "id": "d233d80f",
   "metadata": {},
   "outputs": [
    {
     "data": {
      "text/plain": [
       "'/Users/nealaggarwal/MIT/explorations'"
      ]
     },
     "execution_count": 12,
     "metadata": {},
     "output_type": "execute_result"
    }
   ],
   "source": [
    "pwd"
   ]
  },
  {
   "cell_type": "code",
   "execution_count": 13,
   "id": "735fe7fb",
   "metadata": {},
   "outputs": [],
   "source": [
    "!touch data.txt"
   ]
  },
  {
   "cell_type": "code",
   "execution_count": 14,
   "id": "72a59bc2",
   "metadata": {},
   "outputs": [
    {
     "name": "stdout",
     "output_type": "stream",
     "text": [
      "OOP.ipynb  data.txt\r\n"
     ]
    }
   ],
   "source": [
    "ls"
   ]
  },
  {
   "cell_type": "code",
   "execution_count": 16,
   "id": "96326670",
   "metadata": {},
   "outputs": [
    {
     "name": "stdout",
     "output_type": "stream",
     "text": [
      "This\n",
      "Is my\n",
      "Stupid \n",
      "Empty \n",
      "file"
     ]
    }
   ],
   "source": [
    "with open('data.txt') as file:\n",
    "    for line in file:\n",
    "        print(line, end='') # end omits extra newline"
   ]
  },
  {
   "cell_type": "code",
   "execution_count": 17,
   "id": "a05debf2",
   "metadata": {},
   "outputs": [
    {
     "data": {
      "text/plain": [
       "-1456"
      ]
     },
     "execution_count": 17,
     "metadata": {},
     "output_type": "execute_result"
    }
   ],
   "source": [
    "36887-38343"
   ]
  },
  {
   "cell_type": "code",
   "execution_count": 19,
   "id": "60bc44a7",
   "metadata": {},
   "outputs": [
    {
     "name": "stdout",
     "output_type": "stream",
     "text": [
      "This\n",
      "Is my\n",
      "Stupid \n",
      "Empty \n",
      "file"
     ]
    }
   ],
   "source": [
    "file = open('data.txt')\n",
    "for line in file:        \n",
    "    print(line, end='')\n",
    "file.close()"
   ]
  },
  {
   "cell_type": "code",
   "execution_count": 20,
   "id": "c9cf8b80",
   "metadata": {},
   "outputs": [
    {
     "name": "stdout",
     "output_type": "stream",
     "text": [
      "This\n",
      "Is my\n",
      "Stupid \n",
      "Empty \n",
      "file\n"
     ]
    }
   ],
   "source": [
    "with open('data.txt') as file:\n",
    "    data = file.read()\n",
    "    print(data)"
   ]
  },
  {
   "cell_type": "code",
   "execution_count": 22,
   "id": "fda63fc4",
   "metadata": {},
   "outputs": [
    {
     "name": "stdout",
     "output_type": "stream",
     "text": [
      "This\n",
      "Is my\n",
      "Stupid \n",
      "Empty \n",
      "file"
     ]
    }
   ],
   "source": [
    "with open('data.txt') as file:\n",
    "    while True:\n",
    "        chunk = file.read(100)\n",
    "        if not chunk:\n",
    "            break\n",
    "        print(chunk, end='')"
   ]
  },
  {
   "cell_type": "code",
   "execution_count": 23,
   "id": "02c44358",
   "metadata": {},
   "outputs": [],
   "source": [
    "names = ['Dave', 'Paula', 'Thomas', 'Lewis']"
   ]
  },
  {
   "cell_type": "code",
   "execution_count": 24,
   "id": "1b63ea0b",
   "metadata": {},
   "outputs": [],
   "source": [
    "a = names[2]"
   ]
  },
  {
   "cell_type": "code",
   "execution_count": 25,
   "id": "b9739898",
   "metadata": {},
   "outputs": [
    {
     "data": {
      "text/plain": [
       "'Thomas'"
      ]
     },
     "execution_count": 25,
     "metadata": {},
     "output_type": "execute_result"
    }
   ],
   "source": [
    "a"
   ]
  },
  {
   "cell_type": "code",
   "execution_count": 26,
   "id": "da03b818",
   "metadata": {},
   "outputs": [
    {
     "data": {
      "text/plain": [
       "'Thomas'"
      ]
     },
     "execution_count": 26,
     "metadata": {},
     "output_type": "execute_result"
    }
   ],
   "source": [
    "names[2] = 'Tom'\n",
    "a"
   ]
  },
  {
   "cell_type": "code",
   "execution_count": 27,
   "id": "35fd0ee7",
   "metadata": {},
   "outputs": [
    {
     "data": {
      "text/plain": [
       "['Dave', 'Paula', 'Tom', 'Lewis']"
      ]
     },
     "execution_count": 27,
     "metadata": {},
     "output_type": "execute_result"
    }
   ],
   "source": [
    "names"
   ]
  },
  {
   "cell_type": "code",
   "execution_count": 28,
   "id": "ee01769a",
   "metadata": {},
   "outputs": [
    {
     "data": {
      "text/plain": [
       "['Dave', 'Paula', 'Tom', 'Lewis', 'Alex']"
      ]
     },
     "execution_count": 28,
     "metadata": {},
     "output_type": "execute_result"
    }
   ],
   "source": [
    "names.append('Alex')\n",
    "names"
   ]
  },
  {
   "cell_type": "code",
   "execution_count": 29,
   "id": "37f94593",
   "metadata": {},
   "outputs": [],
   "source": [
    "names.insert(2, 'Ayla')"
   ]
  },
  {
   "cell_type": "code",
   "execution_count": 30,
   "id": "eac2cde6",
   "metadata": {},
   "outputs": [
    {
     "data": {
      "text/plain": [
       "['Dave', 'Paula', 'Ayla', 'Tom', 'Lewis', 'Alex']"
      ]
     },
     "execution_count": 30,
     "metadata": {},
     "output_type": "execute_result"
    }
   ],
   "source": [
    "names"
   ]
  },
  {
   "cell_type": "code",
   "execution_count": 32,
   "id": "ca14eeda",
   "metadata": {},
   "outputs": [
    {
     "name": "stdout",
     "output_type": "stream",
     "text": [
      "Dave\n",
      "Paula\n",
      "Ayla\n",
      "Tom\n",
      "Lewis\n",
      "Alex\n"
     ]
    }
   ],
   "source": [
    "for name in names:\n",
    "    print(name,)"
   ]
  },
  {
   "cell_type": "code",
   "execution_count": 33,
   "id": "0d77dd2d",
   "metadata": {},
   "outputs": [],
   "source": [
    "b = names[0:2]"
   ]
  },
  {
   "cell_type": "code",
   "execution_count": 34,
   "id": "2c90b66e",
   "metadata": {},
   "outputs": [
    {
     "data": {
      "text/plain": [
       "['Dave', 'Paula']"
      ]
     },
     "execution_count": 34,
     "metadata": {},
     "output_type": "execute_result"
    }
   ],
   "source": [
    "b"
   ]
  },
  {
   "cell_type": "code",
   "execution_count": 35,
   "id": "db7842b2",
   "metadata": {},
   "outputs": [
    {
     "data": {
      "text/plain": [
       "['Ayla', 'Tom', 'Lewis', 'Alex']"
      ]
     },
     "execution_count": 35,
     "metadata": {},
     "output_type": "execute_result"
    }
   ],
   "source": [
    "c = names[2:]\n",
    "c"
   ]
  },
  {
   "cell_type": "code",
   "execution_count": 36,
   "id": "4807db5a",
   "metadata": {},
   "outputs": [
    {
     "data": {
      "text/plain": [
       "[]"
      ]
     },
     "execution_count": 36,
     "metadata": {},
     "output_type": "execute_result"
    }
   ],
   "source": [
    "empty_list1 = []\n",
    "empty_list1\n",
    "empty_list2 = list()\n",
    "empty_list2"
   ]
  },
  {
   "cell_type": "code",
   "execution_count": 37,
   "id": "e2bc99c1",
   "metadata": {},
   "outputs": [
    {
     "data": {
      "text/plain": [
       "[]"
      ]
     },
     "execution_count": 37,
     "metadata": {},
     "output_type": "execute_result"
    }
   ],
   "source": [
    "empty_list1"
   ]
  },
  {
   "cell_type": "code",
   "execution_count": 38,
   "id": "0e14f506",
   "metadata": {},
   "outputs": [
    {
     "data": {
      "text/plain": [
       "[]"
      ]
     },
     "execution_count": 38,
     "metadata": {},
     "output_type": "execute_result"
    }
   ],
   "source": [
    "empty_list2"
   ]
  },
  {
   "cell_type": "code",
   "execution_count": 39,
   "id": "dbb331f4",
   "metadata": {},
   "outputs": [],
   "source": [
    "letters = list('Dave')"
   ]
  },
  {
   "cell_type": "code",
   "execution_count": 40,
   "id": "e87fe4ae",
   "metadata": {},
   "outputs": [
    {
     "data": {
      "text/plain": [
       "['D', 'a', 'v', 'e']"
      ]
     },
     "execution_count": 40,
     "metadata": {},
     "output_type": "execute_result"
    }
   ],
   "source": [
    "letters"
   ]
  },
  {
   "cell_type": "code",
   "execution_count": 42,
   "id": "4045e2a1",
   "metadata": {},
   "outputs": [],
   "source": [
    "a = [1, 'Dave', 3.14, ['Mark', 7, 9, [100, 101]], 10]"
   ]
  },
  {
   "cell_type": "code",
   "execution_count": 43,
   "id": "97dba13e",
   "metadata": {},
   "outputs": [
    {
     "data": {
      "text/plain": [
       "[1, 'Dave', 3.14, ['Mark', 7, 9, [100, 101]], 10]"
      ]
     },
     "execution_count": 43,
     "metadata": {},
     "output_type": "execute_result"
    }
   ],
   "source": [
    "a"
   ]
  },
  {
   "cell_type": "code",
   "execution_count": 44,
   "id": "14432f0c",
   "metadata": {},
   "outputs": [
    {
     "data": {
      "text/plain": [
       "'Dave'"
      ]
     },
     "execution_count": 44,
     "metadata": {},
     "output_type": "execute_result"
    }
   ],
   "source": [
    "a[1]"
   ]
  },
  {
   "cell_type": "code",
   "execution_count": 45,
   "id": "a7dc3f77",
   "metadata": {},
   "outputs": [
    {
     "data": {
      "text/plain": [
       "9"
      ]
     },
     "execution_count": 45,
     "metadata": {},
     "output_type": "execute_result"
    }
   ],
   "source": [
    "a[3][2]"
   ]
  },
  {
   "cell_type": "code",
   "execution_count": 48,
   "id": "b09a1d5a",
   "metadata": {},
   "outputs": [
    {
     "data": {
      "text/plain": [
       "101"
      ]
     },
     "execution_count": 48,
     "metadata": {},
     "output_type": "execute_result"
    }
   ],
   "source": [
    "a[3][3][1]"
   ]
  },
  {
   "cell_type": "code",
   "execution_count": 49,
   "id": "1156e80a",
   "metadata": {},
   "outputs": [
    {
     "data": {
      "text/plain": [
       "10"
      ]
     },
     "execution_count": 49,
     "metadata": {},
     "output_type": "execute_result"
    }
   ],
   "source": [
    "a[-1]"
   ]
  },
  {
   "cell_type": "code",
   "execution_count": 50,
   "id": "9099a226",
   "metadata": {},
   "outputs": [
    {
     "ename": "SystemExit",
     "evalue": "Usage: /Users/nealaggarwal/.conda/envs/MITenv/lib/python3.10/site-packages/ipykernel_launcher.py filename",
     "output_type": "error",
     "traceback": [
      "An exception has occurred, use %tb to see the full traceback.\n",
      "\u001b[0;31mSystemExit\u001b[0m\u001b[0;31m:\u001b[0m Usage: /Users/nealaggarwal/.conda/envs/MITenv/lib/python3.10/site-packages/ipykernel_launcher.py filename\n"
     ]
    },
    {
     "name": "stderr",
     "output_type": "stream",
     "text": [
      "/Users/nealaggarwal/.conda/envs/MITenv/lib/python3.10/site-packages/IPython/core/interactiveshell.py:3441: UserWarning: To exit: use 'exit', 'quit', or Ctrl-D.\n",
      "  warn(\"To exit: use 'exit', 'quit', or Ctrl-D.\", stacklevel=1)\n"
     ]
    }
   ],
   "source": [
    "import sys\n",
    "if len(sys.argv) != 2:\n",
    "    raise SystemExit(f'Usage: {sys.argv[0]} filename')\n",
    "    \n",
    "rows = []\n",
    "with open(sys.argv[1], 'rt') as file:\n",
    "    for line in file:\n",
    "        rows.append(line.split(','))\n",
    "        \n",
    "total = sum([int(row[1]) * float(row[2]) for row in rows])\n",
    "print(f'Total cost: {total:0.2f}')"
   ]
  },
  {
   "cell_type": "code",
   "execution_count": 51,
   "id": "2cf36478",
   "metadata": {},
   "outputs": [
    {
     "ename": "SystemExit",
     "evalue": "Usage: /Users/nealaggarwal/.conda/envs/MITenv/lib/python3.10/site-packages/ipykernel_launcher.py filename",
     "output_type": "error",
     "traceback": [
      "\u001b[0;31m---------------------------------------------------------------------------\u001b[0m",
      "\u001b[0;31mSystemExit\u001b[0m                                Traceback (most recent call last)",
      "Cell \u001b[0;32mIn[50], line 3\u001b[0m\n\u001b[1;32m      1\u001b[0m \u001b[38;5;28;01mimport\u001b[39;00m \u001b[38;5;21;01msys\u001b[39;00m\n\u001b[1;32m      2\u001b[0m \u001b[38;5;28;01mif\u001b[39;00m \u001b[38;5;28mlen\u001b[39m(sys\u001b[38;5;241m.\u001b[39margv) \u001b[38;5;241m!=\u001b[39m \u001b[38;5;241m2\u001b[39m:\n\u001b[0;32m----> 3\u001b[0m     \u001b[38;5;28;01mraise\u001b[39;00m \u001b[38;5;167;01mSystemExit\u001b[39;00m(\u001b[38;5;124mf\u001b[39m\u001b[38;5;124m'\u001b[39m\u001b[38;5;124mUsage: \u001b[39m\u001b[38;5;132;01m{\u001b[39;00msys\u001b[38;5;241m.\u001b[39margv[\u001b[38;5;241m0\u001b[39m]\u001b[38;5;132;01m}\u001b[39;00m\u001b[38;5;124m filename\u001b[39m\u001b[38;5;124m'\u001b[39m)\n\u001b[1;32m      5\u001b[0m rows \u001b[38;5;241m=\u001b[39m []\n\u001b[1;32m      6\u001b[0m \u001b[38;5;28;01mwith\u001b[39;00m \u001b[38;5;28mopen\u001b[39m(sys\u001b[38;5;241m.\u001b[39margv[\u001b[38;5;241m1\u001b[39m], \u001b[38;5;124m'\u001b[39m\u001b[38;5;124mrt\u001b[39m\u001b[38;5;124m'\u001b[39m) \u001b[38;5;28;01mas\u001b[39;00m file:\n",
      "\u001b[0;31mSystemExit\u001b[0m: Usage: /Users/nealaggarwal/.conda/envs/MITenv/lib/python3.10/site-packages/ipykernel_launcher.py filename"
     ]
    }
   ],
   "source": [
    "%tb"
   ]
  },
  {
   "cell_type": "code",
   "execution_count": 52,
   "id": "b0166a8c",
   "metadata": {},
   "outputs": [
    {
     "name": "stdout",
     "output_type": "stream",
     "text": [
      "<class '__main__.BigObject'>\n"
     ]
    }
   ],
   "source": [
    "class BigObject():\n",
    "    pass\n",
    "\n",
    "obj1 = BigObject()\n",
    "\n",
    "print(type(obj1))"
   ]
  },
  {
   "cell_type": "code",
   "execution_count": 134,
   "id": "0308294b",
   "metadata": {},
   "outputs": [
    {
     "name": "stdout",
     "output_type": "stream",
     "text": [
      "<__main__.PlayerCharacter object at 0x7f9326df6a70>\n"
     ]
    }
   ],
   "source": [
    "class PlayerCharacter:\n",
    "    # Class Object Attribute\n",
    "    membership = True\n",
    "    def __init__(self, name, age):\n",
    "        self.name = name\n",
    "        self.age = age\n",
    "        \n",
    "    def run(self):\n",
    "        return self\n",
    "        \n",
    "player1 = PlayerCharacter('dna', 62)\n",
    "print(player1.run())"
   ]
  },
  {
   "cell_type": "code",
   "execution_count": 147,
   "id": "15eabdba",
   "metadata": {},
   "outputs": [
    {
     "name": "stdout",
     "output_type": "stream",
     "text": [
      "HTTP/1.1 400 Bad Request\r\n",
      "Date: Sat, 04 Feb 2023 09:18:37 GMT\r\n",
      "Server: Apache/2.4.18 (Ubuntu)\r\n",
      "Content-Length: 308\r\n",
      "Connection: close\r\n",
      "Content-Type: text/html; charset=iso-8859-1\r\n",
      "\r\n",
      "<!DOCTYPE HTML PUBLIC \"-//IETF//DTD HTML 2.0//EN\">\n",
      "<html><head>\n",
      "<title>400 Bad Request</title>\n",
      "</head><body>\n",
      "<h1>Bad Request</h1>\n",
      "<p>Your browser sent a request that this server could not understand.<br />\n",
      "</p>\n",
      "<hr>\n",
      "<address>Apache/2.4.18 (Ubuntu) Server at do1.dr-chuck.com Port 80</address>\n",
      "</body></html>\n",
      "\n"
     ]
    }
   ],
   "source": [
    "import socket\n",
    "mysock = socket.socket(socket.AF_INET, socket.SOCK_STREAM)\n",
    "mysock.connect(('data.pr4e.org', 80))\n",
    "cmd = 'GET http://data.pr4e.org/romeo-full.txt HTTP/1.0\\n\\n'.encode()\n",
    "mysock.send(cmd)\n",
    "while True:\n",
    "    data = mysock.recv(512)\n",
    "    if (len(data) < 1):\n",
    "        break\n",
    "    print(data.decode())\n",
    "mysock.close()"
   ]
  },
  {
   "cell_type": "code",
   "execution_count": null,
   "id": "bd7ccbde",
   "metadata": {},
   "outputs": [],
   "source": []
  }
 ],
 "metadata": {
  "kernelspec": {
   "display_name": "MITenv",
   "language": "python",
   "name": "mitenv"
  },
  "language_info": {
   "codemirror_mode": {
    "name": "ipython",
    "version": 3
   },
   "file_extension": ".py",
   "mimetype": "text/x-python",
   "name": "python",
   "nbconvert_exporter": "python",
   "pygments_lexer": "ipython3",
   "version": "3.10.8"
  }
 },
 "nbformat": 4,
 "nbformat_minor": 5
}
