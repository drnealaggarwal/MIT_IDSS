{
 "cells": [
  {
   "cell_type": "code",
   "execution_count": 1,
   "id": "941bf426",
   "metadata": {},
   "outputs": [],
   "source": [
    "def foo(x):\n",
    "    y = 10\n",
    "    return x * y"
   ]
  },
  {
   "cell_type": "code",
   "execution_count": 3,
   "id": "ba72c0db",
   "metadata": {},
   "outputs": [
    {
     "data": {
      "text/plain": [
       "30"
      ]
     },
     "execution_count": 3,
     "metadata": {},
     "output_type": "execute_result"
    }
   ],
   "source": [
    "foo(3)"
   ]
  },
  {
   "cell_type": "code",
   "execution_count": 7,
   "id": "9d208cb5",
   "metadata": {},
   "outputs": [
    {
     "data": {
      "text/plain": [
       "<code object foo at 0x7fcdcb38e3f0, file \"/var/folders/8_/pn590l890g3_9kshr7t1jhjw0000gn/T/ipykernel_18874/3852000967.py\", line 1>"
      ]
     },
     "execution_count": 7,
     "metadata": {},
     "output_type": "execute_result"
    }
   ],
   "source": [
    "foo.__code__"
   ]
  },
  {
   "cell_type": "code",
   "execution_count": 9,
   "id": "e4957919",
   "metadata": {},
   "outputs": [
    {
     "data": {
      "text/plain": [
       "b'd\\x01}\\x01|\\x00|\\x01\\x14\\x00S\\x00'"
      ]
     },
     "execution_count": 9,
     "metadata": {},
     "output_type": "execute_result"
    }
   ],
   "source": [
    "foo.__code__.co_code"
   ]
  },
  {
   "cell_type": "code",
   "execution_count": 10,
   "id": "cfc84afe",
   "metadata": {},
   "outputs": [
    {
     "data": {
      "text/plain": [
       "'__pycache__/foo.cpython-310.pyc'"
      ]
     },
     "execution_count": 10,
     "metadata": {},
     "output_type": "execute_result"
    }
   ],
   "source": [
    "import py_compile\n",
    "py_compile.compile('foo.py')"
   ]
  },
  {
   "cell_type": "code",
   "execution_count": null,
   "id": "f84cc1f5",
   "metadata": {},
   "outputs": [],
   "source": []
  }
 ],
 "metadata": {
  "kernelspec": {
   "display_name": "MITenv",
   "language": "python",
   "name": "mitenv"
  },
  "language_info": {
   "codemirror_mode": {
    "name": "ipython",
    "version": 3
   },
   "file_extension": ".py",
   "mimetype": "text/x-python",
   "name": "python",
   "nbconvert_exporter": "python",
   "pygments_lexer": "ipython3",
   "version": "3.10.8"
  }
 },
 "nbformat": 4,
 "nbformat_minor": 5
}
