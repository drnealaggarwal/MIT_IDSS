{
 "cells": [
  {
   "cell_type": "code",
   "execution_count": 38,
   "id": "b0e7aac6",
   "metadata": {},
   "outputs": [],
   "source": [
    "#imports\n",
    "\n",
    "import numpy as np\n",
    "import pandas as pd\n",
    "import matplotlib.pyplot as plt\n",
    "%matplotlib inline\n",
    "import seaborn as sns\n",
    "import sklearn\n",
    "import statsmodels.api as sm\n",
    "from statsmodels.stats.outliers_influence import variance_inflation_factor\n",
    "from sklearn.preprocessing import MinMaxScaler\n",
    "import warnings\n",
    "warnings.filterwarnings(\"ignore\")"
   ]
  },
  {
   "cell_type": "code",
   "execution_count": 23,
   "id": "faf9e83e",
   "metadata": {},
   "outputs": [
    {
     "name": "stdout",
     "output_type": "stream",
     "text": [
      "/Users/nealaggarwal/MIT/explorations/VAERS\n"
     ]
    }
   ],
   "source": [
    "cd VAERS"
   ]
  },
  {
   "cell_type": "code",
   "execution_count": 25,
   "id": "2a5422ba",
   "metadata": {},
   "outputs": [
    {
     "name": "stdout",
     "output_type": "stream",
     "text": [
      "\u001b[1m\u001b[34m2023VAERSData\u001b[m\u001b[m/     2023VAERSData.zip\r\n"
     ]
    }
   ],
   "source": [
    "ls"
   ]
  },
  {
   "cell_type": "code",
   "execution_count": 26,
   "id": "55a332cf",
   "metadata": {},
   "outputs": [
    {
     "name": "stdout",
     "output_type": "stream",
     "text": [
      "/Users/nealaggarwal/MIT/explorations/VAERS/2023VAERSData\n"
     ]
    }
   ],
   "source": [
    "cd 2023VAERSData/"
   ]
  },
  {
   "cell_type": "code",
   "execution_count": 27,
   "id": "e17d0448",
   "metadata": {},
   "outputs": [
    {
     "name": "stdout",
     "output_type": "stream",
     "text": [
      "\u001b[1m\u001b[32m2023VAERSDATA.csv\u001b[m\u001b[m*     \u001b[1m\u001b[32m2023VAERSSYMPTOMS.csv\u001b[m\u001b[m* \u001b[1m\u001b[32m2023VAERSVAX.csv\u001b[m\u001b[m*\r\n"
     ]
    }
   ],
   "source": [
    "ls"
   ]
  },
  {
   "cell_type": "code",
   "execution_count": 32,
   "id": "b6a89d2c",
   "metadata": {},
   "outputs": [],
   "source": [
    "symptoms = pd.read_csv(\"2023VAERSSYMPTOMS.csv\")"
   ]
  },
  {
   "cell_type": "code",
   "execution_count": 39,
   "id": "f0559f8f",
   "metadata": {},
   "outputs": [
    {
     "data": {
      "text/html": [
       "<div>\n",
       "<style scoped>\n",
       "    .dataframe tbody tr th:only-of-type {\n",
       "        vertical-align: middle;\n",
       "    }\n",
       "\n",
       "    .dataframe tbody tr th {\n",
       "        vertical-align: top;\n",
       "    }\n",
       "\n",
       "    .dataframe thead th {\n",
       "        text-align: right;\n",
       "    }\n",
       "</style>\n",
       "<table border=\"1\" class=\"dataframe\">\n",
       "  <thead>\n",
       "    <tr style=\"text-align: right;\">\n",
       "      <th></th>\n",
       "      <th>VAERS_ID</th>\n",
       "      <th>SYMPTOM1</th>\n",
       "      <th>SYMPTOMVERSION1</th>\n",
       "      <th>SYMPTOM2</th>\n",
       "      <th>SYMPTOMVERSION2</th>\n",
       "      <th>SYMPTOM3</th>\n",
       "      <th>SYMPTOMVERSION3</th>\n",
       "      <th>SYMPTOM4</th>\n",
       "      <th>SYMPTOMVERSION4</th>\n",
       "      <th>SYMPTOM5</th>\n",
       "      <th>SYMPTOMVERSION5</th>\n",
       "    </tr>\n",
       "  </thead>\n",
       "  <tbody>\n",
       "    <tr>\n",
       "      <th>0</th>\n",
       "      <td>2547730</td>\n",
       "      <td>Blood pressure orthostatic abnormal</td>\n",
       "      <td>25.1</td>\n",
       "      <td>COVID-19</td>\n",
       "      <td>25.1</td>\n",
       "      <td>Coma</td>\n",
       "      <td>25.1</td>\n",
       "      <td>Computerised tomogram</td>\n",
       "      <td>25.1</td>\n",
       "      <td>Exposure to SARS-CoV-2</td>\n",
       "      <td>25.1</td>\n",
       "    </tr>\n",
       "    <tr>\n",
       "      <th>1</th>\n",
       "      <td>2547730</td>\n",
       "      <td>Head injury</td>\n",
       "      <td>25.1</td>\n",
       "      <td>Headache</td>\n",
       "      <td>25.1</td>\n",
       "      <td>Laboratory test</td>\n",
       "      <td>25.1</td>\n",
       "      <td>Magnetic resonance imaging</td>\n",
       "      <td>25.1</td>\n",
       "      <td>SARS-CoV-2 antibody test negative</td>\n",
       "      <td>25.1</td>\n",
       "    </tr>\n",
       "    <tr>\n",
       "      <th>2</th>\n",
       "      <td>2547730</td>\n",
       "      <td>SARS-CoV-2 test positive</td>\n",
       "      <td>25.1</td>\n",
       "      <td>Unresponsive to stimuli</td>\n",
       "      <td>25.1</td>\n",
       "      <td>X-ray</td>\n",
       "      <td>25.1</td>\n",
       "      <td>NaN</td>\n",
       "      <td>NaN</td>\n",
       "      <td>NaN</td>\n",
       "      <td>NaN</td>\n",
       "    </tr>\n",
       "    <tr>\n",
       "      <th>3</th>\n",
       "      <td>2547731</td>\n",
       "      <td>Product preparation issue</td>\n",
       "      <td>25.1</td>\n",
       "      <td>NaN</td>\n",
       "      <td>NaN</td>\n",
       "      <td>NaN</td>\n",
       "      <td>NaN</td>\n",
       "      <td>NaN</td>\n",
       "      <td>NaN</td>\n",
       "      <td>NaN</td>\n",
       "      <td>NaN</td>\n",
       "    </tr>\n",
       "    <tr>\n",
       "      <th>4</th>\n",
       "      <td>2547732</td>\n",
       "      <td>Injury associated with device</td>\n",
       "      <td>25.1</td>\n",
       "      <td>NaN</td>\n",
       "      <td>NaN</td>\n",
       "      <td>NaN</td>\n",
       "      <td>NaN</td>\n",
       "      <td>NaN</td>\n",
       "      <td>NaN</td>\n",
       "      <td>NaN</td>\n",
       "      <td>NaN</td>\n",
       "    </tr>\n",
       "    <tr>\n",
       "      <th>...</th>\n",
       "      <td>...</td>\n",
       "      <td>...</td>\n",
       "      <td>...</td>\n",
       "      <td>...</td>\n",
       "      <td>...</td>\n",
       "      <td>...</td>\n",
       "      <td>...</td>\n",
       "      <td>...</td>\n",
       "      <td>...</td>\n",
       "      <td>...</td>\n",
       "      <td>...</td>\n",
       "    </tr>\n",
       "    <tr>\n",
       "      <th>23656</th>\n",
       "      <td>2579442</td>\n",
       "      <td>COVID-19</td>\n",
       "      <td>25.1</td>\n",
       "      <td>SARS-CoV-2 test</td>\n",
       "      <td>25.1</td>\n",
       "      <td>Vaccination failure</td>\n",
       "      <td>25.1</td>\n",
       "      <td>NaN</td>\n",
       "      <td>NaN</td>\n",
       "      <td>NaN</td>\n",
       "      <td>NaN</td>\n",
       "    </tr>\n",
       "    <tr>\n",
       "      <th>23657</th>\n",
       "      <td>2579443</td>\n",
       "      <td>COVID-19</td>\n",
       "      <td>25.1</td>\n",
       "      <td>SARS-CoV-2 test</td>\n",
       "      <td>25.1</td>\n",
       "      <td>Vaccination failure</td>\n",
       "      <td>25.1</td>\n",
       "      <td>NaN</td>\n",
       "      <td>NaN</td>\n",
       "      <td>NaN</td>\n",
       "      <td>NaN</td>\n",
       "    </tr>\n",
       "    <tr>\n",
       "      <th>23658</th>\n",
       "      <td>2579444</td>\n",
       "      <td>Antibody test</td>\n",
       "      <td>25.1</td>\n",
       "      <td>COVID-19</td>\n",
       "      <td>25.1</td>\n",
       "      <td>COVID-19 immunisation</td>\n",
       "      <td>25.1</td>\n",
       "      <td>NaN</td>\n",
       "      <td>NaN</td>\n",
       "      <td>NaN</td>\n",
       "      <td>NaN</td>\n",
       "    </tr>\n",
       "    <tr>\n",
       "      <th>23659</th>\n",
       "      <td>2579445</td>\n",
       "      <td>Transient ischaemic attack</td>\n",
       "      <td>25.1</td>\n",
       "      <td>NaN</td>\n",
       "      <td>NaN</td>\n",
       "      <td>NaN</td>\n",
       "      <td>NaN</td>\n",
       "      <td>NaN</td>\n",
       "      <td>NaN</td>\n",
       "      <td>NaN</td>\n",
       "      <td>NaN</td>\n",
       "    </tr>\n",
       "    <tr>\n",
       "      <th>23660</th>\n",
       "      <td>2579446</td>\n",
       "      <td>COVID-19</td>\n",
       "      <td>25.1</td>\n",
       "      <td>SARS-CoV-2 test</td>\n",
       "      <td>25.1</td>\n",
       "      <td>NaN</td>\n",
       "      <td>NaN</td>\n",
       "      <td>NaN</td>\n",
       "      <td>NaN</td>\n",
       "      <td>NaN</td>\n",
       "      <td>NaN</td>\n",
       "    </tr>\n",
       "  </tbody>\n",
       "</table>\n",
       "<p>23661 rows × 11 columns</p>\n",
       "</div>"
      ],
      "text/plain": [
       "       VAERS_ID                             SYMPTOM1  SYMPTOMVERSION1  \\\n",
       "0       2547730  Blood pressure orthostatic abnormal             25.1   \n",
       "1       2547730                          Head injury             25.1   \n",
       "2       2547730             SARS-CoV-2 test positive             25.1   \n",
       "3       2547731            Product preparation issue             25.1   \n",
       "4       2547732        Injury associated with device             25.1   \n",
       "...         ...                                  ...              ...   \n",
       "23656   2579442                             COVID-19             25.1   \n",
       "23657   2579443                             COVID-19             25.1   \n",
       "23658   2579444                        Antibody test             25.1   \n",
       "23659   2579445           Transient ischaemic attack             25.1   \n",
       "23660   2579446                             COVID-19             25.1   \n",
       "\n",
       "                      SYMPTOM2  SYMPTOMVERSION2               SYMPTOM3  \\\n",
       "0                     COVID-19             25.1                   Coma   \n",
       "1                     Headache             25.1        Laboratory test   \n",
       "2      Unresponsive to stimuli             25.1                  X-ray   \n",
       "3                          NaN              NaN                    NaN   \n",
       "4                          NaN              NaN                    NaN   \n",
       "...                        ...              ...                    ...   \n",
       "23656          SARS-CoV-2 test             25.1    Vaccination failure   \n",
       "23657          SARS-CoV-2 test             25.1    Vaccination failure   \n",
       "23658                 COVID-19             25.1  COVID-19 immunisation   \n",
       "23659                      NaN              NaN                    NaN   \n",
       "23660          SARS-CoV-2 test             25.1                    NaN   \n",
       "\n",
       "       SYMPTOMVERSION3                    SYMPTOM4  SYMPTOMVERSION4  \\\n",
       "0                 25.1       Computerised tomogram             25.1   \n",
       "1                 25.1  Magnetic resonance imaging             25.1   \n",
       "2                 25.1                         NaN              NaN   \n",
       "3                  NaN                         NaN              NaN   \n",
       "4                  NaN                         NaN              NaN   \n",
       "...                ...                         ...              ...   \n",
       "23656             25.1                         NaN              NaN   \n",
       "23657             25.1                         NaN              NaN   \n",
       "23658             25.1                         NaN              NaN   \n",
       "23659              NaN                         NaN              NaN   \n",
       "23660              NaN                         NaN              NaN   \n",
       "\n",
       "                                SYMPTOM5  SYMPTOMVERSION5  \n",
       "0                 Exposure to SARS-CoV-2             25.1  \n",
       "1      SARS-CoV-2 antibody test negative             25.1  \n",
       "2                                    NaN              NaN  \n",
       "3                                    NaN              NaN  \n",
       "4                                    NaN              NaN  \n",
       "...                                  ...              ...  \n",
       "23656                                NaN              NaN  \n",
       "23657                                NaN              NaN  \n",
       "23658                                NaN              NaN  \n",
       "23659                                NaN              NaN  \n",
       "23660                                NaN              NaN  \n",
       "\n",
       "[23661 rows x 11 columns]"
      ]
     },
     "execution_count": 39,
     "metadata": {},
     "output_type": "execute_result"
    }
   ],
   "source": [
    "symptoms"
   ]
  },
  {
   "cell_type": "code",
   "execution_count": 34,
   "id": "8ce07d60",
   "metadata": {},
   "outputs": [
    {
     "name": "stdout",
     "output_type": "stream",
     "text": [
      "<class 'pandas.core.frame.DataFrame'>\n",
      "RangeIndex: 23661 entries, 0 to 23660\n",
      "Data columns (total 11 columns):\n",
      " #   Column           Non-Null Count  Dtype  \n",
      "---  ------           --------------  -----  \n",
      " 0   VAERS_ID         23661 non-null  int64  \n",
      " 1   SYMPTOM1         23661 non-null  object \n",
      " 2   SYMPTOMVERSION1  23661 non-null  float64\n",
      " 3   SYMPTOM2         16188 non-null  object \n",
      " 4   SYMPTOMVERSION2  16188 non-null  float64\n",
      " 5   SYMPTOM3         11195 non-null  object \n",
      " 6   SYMPTOMVERSION3  11195 non-null  float64\n",
      " 7   SYMPTOM4         8071 non-null   object \n",
      " 8   SYMPTOMVERSION4  8071 non-null   float64\n",
      " 9   SYMPTOM5         6578 non-null   object \n",
      " 10  SYMPTOMVERSION5  6578 non-null   float64\n",
      "dtypes: float64(5), int64(1), object(5)\n",
      "memory usage: 2.0+ MB\n"
     ]
    }
   ],
   "source": [
    "symptoms.info()"
   ]
  },
  {
   "cell_type": "code",
   "execution_count": 42,
   "id": "0f4663d9",
   "metadata": {},
   "outputs": [
    {
     "data": {
      "text/plain": [
       "VAERS_ID            0.000000\n",
       "SYMPTOM1            0.000000\n",
       "SYMPTOMVERSION1     0.000000\n",
       "SYMPTOM2           31.583619\n",
       "SYMPTOMVERSION2    31.583619\n",
       "SYMPTOM3           52.685854\n",
       "SYMPTOMVERSION3    52.685854\n",
       "SYMPTOM4           65.889016\n",
       "SYMPTOMVERSION4    65.889016\n",
       "SYMPTOM5           72.198977\n",
       "SYMPTOMVERSION5    72.198977\n",
       "dtype: float64"
      ]
     },
     "execution_count": 42,
     "metadata": {},
     "output_type": "execute_result"
    }
   ],
   "source": [
    "(symptoms.isnull().sum()/symptoms.shape[0])*100"
   ]
  },
  {
   "cell_type": "code",
   "execution_count": 44,
   "id": "bee96211",
   "metadata": {},
   "outputs": [
    {
     "data": {
      "text/plain": [
       "(23661, 11)"
      ]
     },
     "execution_count": 44,
     "metadata": {},
     "output_type": "execute_result"
    }
   ],
   "source": [
    "symptoms.shape"
   ]
  },
  {
   "cell_type": "code",
   "execution_count": null,
   "id": "29ceedbf",
   "metadata": {},
   "outputs": [],
   "source": []
  }
 ],
 "metadata": {
  "kernelspec": {
   "display_name": "MITenv",
   "language": "python",
   "name": "mitenv"
  },
  "language_info": {
   "codemirror_mode": {
    "name": "ipython",
    "version": 3
   },
   "file_extension": ".py",
   "mimetype": "text/x-python",
   "name": "python",
   "nbconvert_exporter": "python",
   "pygments_lexer": "ipython3",
   "version": "3.10.8"
  }
 },
 "nbformat": 4,
 "nbformat_minor": 5
}
