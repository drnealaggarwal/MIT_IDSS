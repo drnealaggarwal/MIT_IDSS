{
 "cells": [
  {
   "cell_type": "markdown",
   "id": "0982d059",
   "metadata": {},
   "source": [
    "Maximum Likelihood Estimation¶\n",
    "from: Quantitative Economics with Python by\n",
    "Thomas J. Sargent & John Stachurski\n",
    "Available online: https://python.quantecon.org/mle.html"
   ]
  }
 ],
 "metadata": {
  "kernelspec": {
   "display_name": "MITenv",
   "language": "python",
   "name": "mitenv"
  },
  "language_info": {
   "codemirror_mode": {
    "name": "ipython",
    "version": 3
   },
   "file_extension": ".py",
   "mimetype": "text/x-python",
   "name": "python",
   "nbconvert_exporter": "python",
   "pygments_lexer": "ipython3",
   "version": "3.10.8"
  }
 },
 "nbformat": 4,
 "nbformat_minor": 5
}
