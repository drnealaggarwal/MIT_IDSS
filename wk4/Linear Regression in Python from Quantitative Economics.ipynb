{
 "cells": [
  {
   "cell_type": "markdown",
   "id": "9dd93c41",
   "metadata": {},
   "source": [
    "\n",
    "## Linear Regression in Python¶\n"
   ]
  },
  {
   "cell_type": "markdown",
   "id": "825da483",
   "metadata": {},
   "source": [
    "from: Quantitative Economics with Python by\n",
    "Thomas J. Sargent & John Stachurski\n",
    "Available online: https://python.quantecon.org/ols.html"
   ]
  },
  {
   "cell_type": "code",
   "execution_count": 4,
   "id": "9f00eeb0",
   "metadata": {
    "collapsed": true
   },
   "outputs": [
    {
     "name": "stdout",
     "output_type": "stream",
     "text": [
      "Requirement already satisfied: linearmodels in /Users/nealaggarwal/.conda/envs/MITenv/lib/python3.10/site-packages (4.27)\n",
      "Requirement already satisfied: property-cached>=1.6.3 in /Users/nealaggarwal/.conda/envs/MITenv/lib/python3.10/site-packages (from linearmodels) (1.6.4)\n",
      "Requirement already satisfied: statsmodels>=0.11 in /Users/nealaggarwal/.conda/envs/MITenv/lib/python3.10/site-packages (from linearmodels) (0.13.5)\n",
      "Requirement already satisfied: pandas>=0.24 in /Users/nealaggarwal/.conda/envs/MITenv/lib/python3.10/site-packages (from linearmodels) (1.5.2)\n",
      "Requirement already satisfied: numpy>=1.16 in /Users/nealaggarwal/.conda/envs/MITenv/lib/python3.10/site-packages (from linearmodels) (1.23.5)\n",
      "Requirement already satisfied: formulaic~=0.3.2 in /Users/nealaggarwal/.conda/envs/MITenv/lib/python3.10/site-packages (from linearmodels) (0.3.4)\n",
      "Requirement already satisfied: Cython>=0.29.21 in /Users/nealaggarwal/.conda/envs/MITenv/lib/python3.10/site-packages (from linearmodels) (0.29.33)\n",
      "Requirement already satisfied: pyhdfe>=0.1 in /Users/nealaggarwal/.conda/envs/MITenv/lib/python3.10/site-packages (from linearmodels) (0.1.2)\n",
      "Requirement already satisfied: mypy-extensions>=0.4 in /Users/nealaggarwal/.conda/envs/MITenv/lib/python3.10/site-packages (from linearmodels) (1.0.0)\n",
      "Requirement already satisfied: setuptools-scm<7.0.0,>=6.4.2 in /Users/nealaggarwal/.conda/envs/MITenv/lib/python3.10/site-packages (from linearmodels) (6.4.2)\n",
      "Requirement already satisfied: scipy>=1.2 in /Users/nealaggarwal/.conda/envs/MITenv/lib/python3.10/site-packages (from linearmodels) (1.9.3)\n",
      "Requirement already satisfied: astor>=0.8 in /Users/nealaggarwal/.conda/envs/MITenv/lib/python3.10/site-packages (from formulaic~=0.3.2->linearmodels) (0.8.1)\n",
      "Requirement already satisfied: interface-meta<2.0.0,>=1.2.0 in /Users/nealaggarwal/.conda/envs/MITenv/lib/python3.10/site-packages (from formulaic~=0.3.2->linearmodels) (1.3.0)\n",
      "Requirement already satisfied: wrapt>=1.0 in /Users/nealaggarwal/.conda/envs/MITenv/lib/python3.10/site-packages (from formulaic~=0.3.2->linearmodels) (1.14.1)\n",
      "Requirement already satisfied: python-dateutil>=2.8.1 in /Users/nealaggarwal/.conda/envs/MITenv/lib/python3.10/site-packages (from pandas>=0.24->linearmodels) (2.8.2)\n",
      "Requirement already satisfied: pytz>=2020.1 in /Users/nealaggarwal/.conda/envs/MITenv/lib/python3.10/site-packages (from pandas>=0.24->linearmodels) (2022.7)\n",
      "Requirement already satisfied: setuptools in /Users/nealaggarwal/.conda/envs/MITenv/lib/python3.10/site-packages (from setuptools-scm<7.0.0,>=6.4.2->linearmodels) (65.6.3)\n",
      "Requirement already satisfied: packaging>=20.0 in /Users/nealaggarwal/.conda/envs/MITenv/lib/python3.10/site-packages (from setuptools-scm<7.0.0,>=6.4.2->linearmodels) (22.0)\n",
      "Requirement already satisfied: tomli>=1.0.0 in /Users/nealaggarwal/.conda/envs/MITenv/lib/python3.10/site-packages (from setuptools-scm<7.0.0,>=6.4.2->linearmodels) (2.0.1)\n",
      "Requirement already satisfied: patsy>=0.5.2 in /Users/nealaggarwal/.conda/envs/MITenv/lib/python3.10/site-packages (from statsmodels>=0.11->linearmodels) (0.5.3)\n",
      "Requirement already satisfied: six in /Users/nealaggarwal/.conda/envs/MITenv/lib/python3.10/site-packages (from patsy>=0.5.2->statsmodels>=0.11->linearmodels) (1.16.0)\n"
     ]
    }
   ],
   "source": [
    "!pip install linearmodels"
   ]
  },
  {
   "cell_type": "code",
   "execution_count": 5,
   "id": "21366ba2",
   "metadata": {},
   "outputs": [],
   "source": [
    "%matplotlib inline\n",
    "import matplotlib.pyplot as plt\n",
    "plt.rcParams[\"figure.figsize\"] = (11, 5)\n",
    "import numpy as np\n",
    "import pandas as pd\n",
    "import statsmodels.api as sm\n",
    "from statsmodels.iolib.summary2 import summary_col\n",
    "from linearmodels.iv import IV2SLS"
   ]
  },
  {
   "cell_type": "code",
   "execution_count": null,
   "id": "9eb33e07",
   "metadata": {},
   "outputs": [],
   "source": []
  }
 ],
 "metadata": {
  "kernelspec": {
   "display_name": "MITenv",
   "language": "python",
   "name": "mitenv"
  },
  "language_info": {
   "codemirror_mode": {
    "name": "ipython",
    "version": 3
   },
   "file_extension": ".py",
   "mimetype": "text/x-python",
   "name": "python",
   "nbconvert_exporter": "python",
   "pygments_lexer": "ipython3",
   "version": "3.10.8"
  }
 },
 "nbformat": 4,
 "nbformat_minor": 5
}
