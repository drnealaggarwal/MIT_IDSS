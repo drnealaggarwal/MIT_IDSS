{
 "cells": [
  {
   "cell_type": "markdown",
   "id": "f677e90a",
   "metadata": {},
   "source": [
    "## basic "
   ]
  },
  {
   "cell_type": "markdown",
   "id": "0f100107",
   "metadata": {},
   "source": [
    "From Diana YT: Title: Perceptron Algorithm with Code Example - ML for beginners!\n",
    "available online: https://youtu.be/-KLnurhX-Pg"
   ]
  },
  {
   "cell_type": "code",
   "execution_count": 1,
   "id": "115a7e4d",
   "metadata": {},
   "outputs": [],
   "source": [
    "# write code here"
   ]
  },
  {
   "cell_type": "markdown",
   "id": "7916b81e",
   "metadata": {},
   "source": [
    "From Rasckha book - further developemtn from Diana's code above"
   ]
  },
  {
   "cell_type": "code",
   "execution_count": null,
   "id": "01bb967f",
   "metadata": {},
   "outputs": [],
   "source": []
  }
 ],
 "metadata": {
  "kernelspec": {
   "display_name": "MITenv",
   "language": "python",
   "name": "mitenv"
  },
  "language_info": {
   "codemirror_mode": {
    "name": "ipython",
    "version": 3
   },
   "file_extension": ".py",
   "mimetype": "text/x-python",
   "name": "python",
   "nbconvert_exporter": "python",
   "pygments_lexer": "ipython3",
   "version": "3.10.8"
  }
 },
 "nbformat": 4,
 "nbformat_minor": 5
}
