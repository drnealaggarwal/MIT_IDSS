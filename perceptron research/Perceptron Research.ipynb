{
 "cells": [
  {
   "cell_type": "markdown",
   "id": "f677e90a",
   "metadata": {},
   "source": [
    "## basic "
   ]
  },
  {
   "cell_type": "markdown",
   "id": "0f100107",
   "metadata": {},
   "source": [
    "From Diana YT: Title: Perceptron Algorithm with Code Example - ML for beginners!\n",
    "available online: https://youtu.be/-KLnurhX-Pg"
   ]
  },
  {
   "cell_type": "code",
   "execution_count": 4,
   "id": "115a7e4d",
   "metadata": {},
   "outputs": [
    {
     "name": "stdout",
     "output_type": "stream",
     "text": [
      "0.04000000000000001\n",
      "0.19\n",
      "0.31\n",
      "Output: 1\n"
     ]
    }
   ],
   "source": [
    "# write code here\n",
    "# this is the most basic perceptron possible\n",
    "# code from Diana's video above. Acts as starting point\n",
    "# for Raschka code below.\n",
    "\n",
    "x_input = [0.1, 0.5, 0.2]\n",
    "w_weights = [0.4, 0.3, 0.6]\n",
    "threshold = 0.3\n",
    "\n",
    "def step(weighted_sum):\n",
    "    if weighted_sum > threshold:\n",
    "        return 1\n",
    "    else:\n",
    "        return 0\n",
    "    \n",
    "def perceptron():\n",
    "    weighted_sum = 0\n",
    "    for x, w in zip(x_input, w_weights):\n",
    "        weighted_sum += x*w\n",
    "        print(weighted_sum)\n",
    "    return step(weighted_sum)\n",
    "\n",
    "output = perceptron()\n",
    "print(\"Output: \" + str(output))"
   ]
  },
  {
   "attachments": {},
   "cell_type": "markdown",
   "id": "7916b81e",
   "metadata": {},
   "source": [
    "## Raschka Perceptron"
   ]
  },
  {
   "cell_type": "markdown",
   "id": "e03ae6a2",
   "metadata": {},
   "source": [
    "From Rasckha book - further development from Diana's code above\n",
    "\n",
    "for _ in range(self.n_iter) is a for loop statement used in Python to repeat a certain block of code for a specified number of iterations, which is given by the value of self.n_iter.\n",
    "\n",
    "Here, _ is used as a placeholder variable because we don't actually need to use the value of the iteration index. We just want to repeat the loop self.n_iter number of times, regardless of the current iteration index.\n",
    "\n",
    "In object-oriented programming, self refers to the current instance of the class. So, self.n_iter is a variable defined within the class, which indicates the number of iterations to run.\n",
    "\n",
    "Overall, this loop structure is commonly used in machine learning algorithms such as gradient descent, where the algorithm updates the model parameters iteratively for a fixed number of times until convergence."
   ]
  },
  {
   "cell_type": "code",
   "execution_count": 14,
   "id": "01bb967f",
   "metadata": {},
   "outputs": [],
   "source": [
    "import numpy as np\n",
    "\n",
    "class Perceptron():\n",
    "\n",
    "    \"\"\"Perceptron Classifier\n",
    "\n",
    "    Parameters\n",
    "    ----------\n",
    "\n",
    "    eta : float\n",
    "        Learning rate (between 0 0 and 1.0)\n",
    "    n_iter : int\n",
    "        Passes over the training dataset.\n",
    "    random_state : int\n",
    "        Random number generator seed for random weight\n",
    "        initialisation.\n",
    "\n",
    "    Attributes\n",
    "    ----------\n",
    "\n",
    "    w_ : 1d-array\n",
    "        Weights after fitting.\n",
    "    b_ : Scalar\n",
    "        Bias unit after fitting.\n",
    "\n",
    "    errors_ : list\n",
    "        Number of misclassifications (updates) in each epoch.\n",
    "\n",
    "    \"\"\"\n",
    "def __init__(self, eta=0.01, n_iter=50, random_state=1):\n",
    "    self.eta = eta\n",
    "    self.n_iter = n_iter\n",
    "    self.random_state = random_state\n",
    "\n",
    "def fit(self, X, y):\n",
    "    \"\"\"Fit Training Data\n",
    "    \n",
    "    Parameters\n",
    "    ----------\n",
    "    X: {array-like}, shape = [n_examples, n_features]\n",
    "       Training vectores, where n_examples is the number of \n",
    "       examples and n_features is the number of features.\n",
    "    y: array-like, shape = [n_examples]\n",
    "    Target vaues.\n",
    "\n",
    "    Returns\n",
    "    -------\n",
    "    self : object\n",
    "\n",
    "    \"\"\"\n",
    "    \n",
    "    # _ is appended to variables by convention. These vars are NOT created upong initialization of the object\n",
    "    \n",
    "    rgen = np.random.RandomState(self.random_state)\n",
    "    self.w_ = rgen.normal(loc=0.0, scale=0.01, size = X.shape[1])\n",
    "    self.b_ = np.float_(0.)\n",
    "    self.errors_ = []\n",
    "\n",
    "    # _ is used as a placeholder variable because we don't actually need to use the value of the iteration index. \n",
    "    # We just want to repeat the loop self.n_iter number of times, regardless of the current iteration index.\n",
    "\n",
    "    for _ in range(self.n_iter):\n",
    "        errors = 0\n",
    "        for xi, target in zip(X, y):\n",
    "            update = self.eta * (target - self.predict(xi))\n",
    "            self.w_ += update * xi\n",
    "            self.b_ += update\n",
    "            errors += int(update!= 0.0)\n",
    "        self.error_.append(errors)\n",
    "    return self\n",
    "\n",
    "def net_input(self, X):\n",
    "    \"\"\"Calculate net input\"\"\"\n",
    "    return np.dot(X, self.w_) + self.b_\n",
    "\n",
    "def predict(self, X):\n",
    "    \"\"\"Return class label after unit step\"\"\"\n",
    "    return np.where(self.net_input(X) >= 0.0, 1, 0)"
   ]
  },
  {
   "cell_type": "code",
   "execution_count": 15,
   "id": "90bb3228",
   "metadata": {},
   "outputs": [
    {
     "name": "stderr",
     "output_type": "stream",
     "text": [
      "/var/folders/8_/pn590l890g3_9kshr7t1jhjw0000gn/T/ipykernel_11729/3594499652.py:3: RuntimeWarning: invalid value encountered in arccos\n",
      "  np.arccos(v1.dot(v2)) / (np.linalg.norm(v1) * (np.linalg.norm(v2)))\n"
     ]
    },
    {
     "data": {
      "text/plain": [
       "nan"
      ]
     },
     "execution_count": 15,
     "metadata": {},
     "output_type": "execute_result"
    }
   ],
   "source": [
    "v1 = np.array([1, 2, 3])\n",
    "v2 = 0.5 * v1\n",
    "np.arccos(v1.dot(v2)) / (np.linalg.norm(v1) * (np.linalg.norm(v2)))"
   ]
  },
  {
   "cell_type": "markdown",
   "id": "d7b74514",
   "metadata": {},
   "source": [
    "Neural Networks from Scratch - SentDex (Harrison Kinsley)"
   ]
  },
  {
   "cell_type": "code",
   "execution_count": 19,
   "id": "1a63d1ab",
   "metadata": {},
   "outputs": [
    {
     "name": "stdout",
     "output_type": "stream",
     "text": [
      "4.8\n"
     ]
    }
   ],
   "source": [
    "import numpy as np\n",
    "import pandas as predict\n",
    "import matplotlib.pyplot as plt\n",
    "import seaborn as sns\n",
    "%matplotlib inline\n",
    "\n",
    "inputs = [1.0, 2.0, 3.0, 2.5]\n",
    "weights = [0.2, 0.8, -0.5, 1.0]\n",
    "bias = 2.0\n",
    "\n",
    "output = (inputs[0]*weights[0] + inputs[1]*weights[1] + inputs[2]*weights[2] + inputs[3]*weights[3]+ bias)\n",
    "print(output)"
   ]
  },
  {
   "cell_type": "code",
   "execution_count": 24,
   "id": "3c705594",
   "metadata": {},
   "outputs": [
    {
     "name": "stdout",
     "output_type": "stream",
     "text": [
      "[4.8, 5.8, 3.3]\n"
     ]
    }
   ],
   "source": [
    "inputs = [1.0, 2.0, 3.0, 2.5]\n",
    "\n",
    "weights1 = [0.2, 0.8, -0.5, 1]\n",
    "weights2 = [0.5, -0.91, 0.26, -0.5]\n",
    "weights3 = [-0.26, -0.27, 0.17, 0.87]\n",
    "\n",
    "bias1 = 2.0\n",
    "bias2 = 3.0\n",
    "bias3 = 0.5\n",
    "\n",
    "outputs = [\n",
    "    # Nueron 1\n",
    "    inputs[0]*weights[0] + inputs[1]*weights[1] + inputs[2]*weights[2] + inputs[3]*weights[3] + bias1,\n",
    "\n",
    "    # Neuron 2\n",
    "    inputs[0]*weights[0] + inputs[1]*weights[1] + inputs[2]*weights[2] + inputs[3]*weights[3] + bias2, \n",
    "    \n",
    "    # Neuron 3\n",
    "    inputs[0]*weights[0] + inputs[1]*weights[1] + inputs[2]*weights[2] + inputs[3]*weights[3] + bias3]\n",
    "\n",
    "print(outputs)"
   ]
  },
  {
   "cell_type": "code",
   "execution_count": null,
   "id": "310e5510",
   "metadata": {},
   "outputs": [],
   "source": []
  }
 ],
 "metadata": {
  "kernelspec": {
   "display_name": "MITenv",
   "language": "python",
   "name": "mitenv"
  },
  "language_info": {
   "codemirror_mode": {
    "name": "ipython",
    "version": 3
   },
   "file_extension": ".py",
   "mimetype": "text/x-python",
   "name": "python",
   "nbconvert_exporter": "python",
   "pygments_lexer": "ipython3",
   "version": "3.10.8"
  }
 },
 "nbformat": 4,
 "nbformat_minor": 5
}
